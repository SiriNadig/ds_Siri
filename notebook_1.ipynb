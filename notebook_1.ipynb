{
  "nbformat": 4,
  "nbformat_minor": 0,
  "metadata": {
    "colab": {
      "provenance": []
    },
    "kernelspec": {
      "name": "python3",
      "display_name": "Python 3"
    },
    "language_info": {
      "name": "python"
    }
  },
  "cells": [
    {
      "cell_type": "code",
      "source": [
        "from google.colab import drive\n",
        "drive.mount('/content/drive')"
      ],
      "metadata": {
        "colab": {
          "base_uri": "https://localhost:8080/"
        },
        "id": "Ksx1jas88gwH",
        "outputId": "fd901d29-f98d-455d-8826-4d2610f7edbf"
      },
      "execution_count": 40,
      "outputs": [
        {
          "output_type": "stream",
          "name": "stdout",
          "text": [
            "Drive already mounted at /content/drive; to attempt to forcibly remount, call drive.mount(\"/content/drive\", force_remount=True).\n"
          ]
        }
      ]
    },
    {
      "cell_type": "code",
      "source": [
        "trader_fp = '/content/drive/MyDrive/Colab Notebooks/historical_data.csv'\n",
        "sentiment_fp = '/content/drive/MyDrive/Colab Notebooks/fear_greed_index.csv'\n",
        "\n",
        "print(trader_fp)\n",
        "print(sentiment_fp)"
      ],
      "metadata": {
        "colab": {
          "base_uri": "https://localhost:8080/"
        },
        "id": "VfQ4gBJq9wAS",
        "outputId": "7304bad2-9b35-4e80-f67d-35f66d71832c"
      },
      "execution_count": null,
      "outputs": [
        {
          "output_type": "stream",
          "name": "stdout",
          "text": [
            "/content/drive/MyDrive/Colab Notebooks/historical_data.csv\n",
            "/content/drive/MyDrive/Colab Notebooks/fear_greed_index.csv\n"
          ]
        }
      ]
    },
    {
      "cell_type": "code",
      "source": [
        "import pandas as pd\n",
        "import numpy as np\n",
        "import matplotlib.pyplot as plt\n",
        "import seaborn as sns\n",
        "import os\n",
        "\n",
        "os.makedirs('csv_files', exist_ok=True)\n",
        "os.makedirs('outputs', exist_ok=True)"
      ],
      "metadata": {
        "collapsed": true,
        "id": "JWUF5FT2-DhQ"
      },
      "execution_count": null,
      "outputs": []
    },
    {
      "cell_type": "code",
      "source": [
        "traders = pd.read_csv(trader_fp)\n",
        "sentiment = pd.read_csv(sentiment_fp)\n",
        "\n",
        "print(\"Traders data shape:\", traders.shape)\n",
        "print(\"Sentiment data shape:\", sentiment.shape)\n",
        "\n",
        "traders.head(), sentiment.head()"
      ],
      "metadata": {
        "colab": {
          "base_uri": "https://localhost:8080/"
        },
        "id": "QaFAlEvG-ead",
        "outputId": "12651f36-cdaf-47f0-c519-2d77e660fdd3"
      },
      "execution_count": null,
      "outputs": [
        {
          "output_type": "stream",
          "name": "stdout",
          "text": [
            "Traders data shape: (211224, 16)\n",
            "Sentiment data shape: (2644, 4)\n"
          ]
        },
        {
          "output_type": "execute_result",
          "data": {
            "text/plain": [
              "(                                      Account  Coin  Execution Price  \\\n",
              " 0  0xae5eacaf9c6b9111fd53034a602c192a04e082ed  @107           7.9769   \n",
              " 1  0xae5eacaf9c6b9111fd53034a602c192a04e082ed  @107           7.9800   \n",
              " 2  0xae5eacaf9c6b9111fd53034a602c192a04e082ed  @107           7.9855   \n",
              " 3  0xae5eacaf9c6b9111fd53034a602c192a04e082ed  @107           7.9874   \n",
              " 4  0xae5eacaf9c6b9111fd53034a602c192a04e082ed  @107           7.9894   \n",
              " \n",
              "    Size Tokens  Size USD Side     Timestamp IST  Start Position Direction  \\\n",
              " 0       986.87   7872.16  BUY  02-12-2024 22:50        0.000000       Buy   \n",
              " 1        16.00    127.68  BUY  02-12-2024 22:50      986.524596       Buy   \n",
              " 2       144.09   1150.63  BUY  02-12-2024 22:50     1002.518996       Buy   \n",
              " 3       142.98   1142.04  BUY  02-12-2024 22:50     1146.558564       Buy   \n",
              " 4         8.73     69.75  BUY  02-12-2024 22:50     1289.488521       Buy   \n",
              " \n",
              "    Closed PnL                                   Transaction Hash     Order ID  \\\n",
              " 0         0.0  0xec09451986a1874e3a980418412fcd0201f500c95bac...  52017706630   \n",
              " 1         0.0  0xec09451986a1874e3a980418412fcd0201f500c95bac...  52017706630   \n",
              " 2         0.0  0xec09451986a1874e3a980418412fcd0201f500c95bac...  52017706630   \n",
              " 3         0.0  0xec09451986a1874e3a980418412fcd0201f500c95bac...  52017706630   \n",
              " 4         0.0  0xec09451986a1874e3a980418412fcd0201f500c95bac...  52017706630   \n",
              " \n",
              "    Crossed       Fee      Trade ID     Timestamp  \n",
              " 0     True  0.345404  8.950000e+14  1.730000e+12  \n",
              " 1     True  0.005600  4.430000e+14  1.730000e+12  \n",
              " 2     True  0.050431  6.600000e+14  1.730000e+12  \n",
              " 3     True  0.050043  1.080000e+15  1.730000e+12  \n",
              " 4     True  0.003055  1.050000e+15  1.730000e+12  ,\n",
              "     timestamp  value classification        date\n",
              " 0  1517463000     30           Fear  2018-02-01\n",
              " 1  1517549400     15   Extreme Fear  2018-02-02\n",
              " 2  1517635800     40           Fear  2018-02-03\n",
              " 3  1517722200     24   Extreme Fear  2018-02-04\n",
              " 4  1517808600     11   Extreme Fear  2018-02-05)"
            ]
          },
          "metadata": {},
          "execution_count": 21
        }
      ]
    },
    {
      "cell_type": "code",
      "source": [
        "if 'Timestamp' in traders.columns:\n",
        "    traders['Timestamp'] = pd.to_datetime(traders['Timestamp'], unit='ms', errors='coerce')\n",
        "\n",
        "if 'date' in sentiment.columns:\n",
        "    sentiment['date'] = pd.to_datetime(sentiment['date'], errors='coerce')\n",
        "\n",
        "traders.drop_duplicates(inplace=True)\n",
        "sentiment.drop_duplicates(inplace=True)"
      ],
      "metadata": {
        "id": "a0vKfQRZ-jS2"
      },
      "execution_count": null,
      "outputs": []
    },
    {
      "cell_type": "code",
      "source": [
        "traders['date'] = traders['Timestamp'].dt.date\n",
        "agg_traders = traders.groupby('date').agg({\n",
        "    'Closed PnL': 'mean',\n",
        "    'Size USD': 'sum',\n",
        "}).reset_index()\n",
        "\n",
        "agg_traders.rename(columns={\n",
        "    'Closed PnL': 'avg_pnl',\n",
        "    'Size USD': 'total_volume',\n",
        "}, inplace=True)\n",
        "\n",
        "agg_traders['date'] = pd.to_datetime(agg_traders['date'])"
      ],
      "metadata": {
        "id": "MrpEVVwP-mtX"
      },
      "execution_count": null,
      "outputs": []
    },
    {
      "cell_type": "code",
      "source": [
        "merged = pd.merge(\n",
        "    agg_traders,\n",
        "    sentiment,\n",
        "    left_on='date',\n",
        "    right_on='date',\n",
        "    how='inner'\n",
        ")\n",
        "\n",
        "merged.to_csv('csv_files/merged_data.csv', index=False)"
      ],
      "metadata": {
        "id": "sEsjMQYQ_JE_"
      },
      "execution_count": null,
      "outputs": []
    },
    {
      "cell_type": "code",
      "source": [
        "print(merged.describe())\n",
        "\n",
        "print(\"\\nSentiment counts:\")\n",
        "print(merged['classification'].value_counts())"
      ],
      "metadata": {
        "colab": {
          "base_uri": "https://localhost:8080/"
        },
        "id": "tddiqG4q_dLX",
        "outputId": "c7d21766-0319-46f8-9d85-5a2981eed9f7"
      },
      "execution_count": null,
      "outputs": [
        {
          "output_type": "stream",
          "name": "stdout",
          "text": [
            "         avg_pnl  total_volume     timestamp      value\n",
            "count   6.000000  6.000000e+00  6.000000e+00   6.000000\n",
            "mean   31.391531  1.468187e+08  1.713303e+09  63.333333\n",
            "std    34.419514  2.754899e+08  2.160288e+07  15.121728\n",
            "min     0.000000  4.770000e+02  1.679981e+09  44.000000\n",
            "25%     5.669033  1.412738e+07  1.702445e+09  52.250000\n",
            "50%    23.824242  3.062500e+07  1.714973e+09  64.000000\n",
            "75%    43.890409  8.781252e+07  1.727501e+09  72.750000\n",
            "max    90.504272  7.041585e+08  1.739943e+09  84.000000\n",
            "\n",
            "Sentiment counts:\n",
            "classification\n",
            "Greed            3\n",
            "Extreme Greed    1\n",
            "Neutral          1\n",
            "Fear             1\n",
            "Name: count, dtype: int64\n"
          ]
        }
      ]
    },
    {
      "cell_type": "code",
      "source": [
        "sns.set(style=\"whitegrid\")\n",
        "\n",
        "# PnL over time colored by sentiment\n",
        "plt.figure(figsize=(12,6))\n",
        "sns.lineplot(data=merged, x='date', y='avg_pnl', hue='classification')\n",
        "plt.title('Average PnL Over Time by Market Sentiment')\n",
        "plt.savefig('outputs/avg_pnl_by_sentiment.png')\n",
        "plt.show()\n",
        "\n",
        "# Volume vs sentiment\n",
        "plt.figure(figsize=(8,5))\n",
        "sns.boxplot(data=merged, x='classification', y='total_volume')\n",
        "plt.title('Total Volume by Market Sentiment')\n",
        "plt.savefig('outputs/volume_by_sentiment.png')\n",
        "plt.show()"
      ],
      "metadata": {
        "colab": {
          "base_uri": "https://localhost:8080/",
          "height": 1000
        },
        "id": "CIiTfYBe_jHh",
        "outputId": "32011104-7b8f-4b32-db48-74d891132f02"
      },
      "execution_count": null,
      "outputs": [
        {
          "output_type": "display_data",
          "data": {
            "text/plain": [
              "<Figure size 1200x600 with 1 Axes>"
            ],
            "image/png": "[encoded data removed]"
          },
          "metadata": {}
        },
        {
          "output_type": "display_data",
          "data": {
            "text/plain": [
              "<Figure size 800x500 with 1 Axes>"
            ],
            "image/png": "[encoded data removed]"
          },
          "metadata": {}
        }
      ]
    },
    {
      "cell_type": "code",
      "metadata": {
        "colab": {
          "base_uri": "https://localhost:8080/"
        },
        "id": "f33390f3",
        "outputId": "3a8cb0f1-92fb-44cf-cc18-1c57762a185e"
      },
      "source": [
        "print(traders['Timestamp'].head())"
      ],
      "execution_count": null,
      "outputs": [
        {
          "output_type": "stream",
          "name": "stdout",
          "text": [
            "0   2024-10-27 03:33:20\n",
            "1   2024-10-27 03:33:20\n",
            "2   2024-10-27 03:33:20\n",
            "3   2024-10-27 03:33:20\n",
            "4   2024-10-27 03:33:20\n",
            "Name: Timestamp, dtype: datetime64[ns]\n"
          ]
        }
      ]
    },
    {
      "cell_type": "code",
      "metadata": {
        "colab": {
          "base_uri": "https://localhost:8080/"
        },
        "id": "203122b2",
        "outputId": "59f8a9f0-e693-4f65-ceae-d9a91982b461"
      },
      "source": [
        "print(\"Aggregated Traders Date Range:\")\n",
        "print(\"Min Date:\", agg_traders['date'].min())\n",
        "print(\"Max Date:\", agg_traders['date'].max())\n",
        "\n",
        "print(\"\\nSentiment Date Range:\")\n",
        "print(\"Min Date:\", sentiment['date'].min())\n",
        "print(\"Max Date:\", sentiment['date'].max())"
      ],
      "execution_count": null,
      "outputs": [
        {
          "output_type": "stream",
          "name": "stdout",
          "text": [
            "Aggregated Traders Date Range:\n",
            "Min Date: 2023-03-28 00:00:00\n",
            "Max Date: 2025-06-15 00:00:00\n",
            "\n",
            "Sentiment Date Range:\n",
            "Min Date: 2018-02-01 00:00:00\n",
            "Max Date: 2025-05-02 00:00:00\n"
          ]
        }
      ]
    },
    {
      "cell_type": "code",
      "source": [
        "agg_traders.to_csv('csv_files/agg_traders.csv', index=False)\n",
        "sentiment.to_csv('csv_files/sentiment_clean.csv', index=False)\n"
      ],
      "metadata": {
        "id": "MMDPPKMdVEyS"
      },
      "execution_count": null,
      "outputs": []
    },
    {
      "cell_type": "code",
      "source": [
        "print(\"\"\"\n",
        "✅ Data loaded, cleaned, and merged\n",
        "✅ CSVs saved in csv_files/\n",
        "✅ Plots saved in outputs/\n",
        "➡ Now use the insights from visuals and stats to write ds_report.pdf\n",
        "\"\"\")"
      ],
      "metadata": {
        "colab": {
          "base_uri": "https://localhost:8080/"
        },
        "id": "L5cDO9afVMod",
        "outputId": "f105c6cc-2c58-4001-87e6-b5364ceda24d"
      },
      "execution_count": null,
      "outputs": [
        {
          "output_type": "stream",
          "name": "stdout",
          "text": [
            "\n",
            "✅ Data loaded, cleaned, and merged\n",
            "✅ CSVs saved in csv_files/\n",
            "✅ Plots saved in outputs/\n",
            "➡ Now use the insights from visuals and stats to write ds_report.pdf\n",
            "\n"
          ]
        }
      ]
    },
    {
      "cell_type": "code",
      "source": [
        "from scipy.stats import ttest_ind\n",
        "\n",
        "# Separate PnL by sentiment class\n",
        "fear_pnl = merged[merged['classification'] == 'Fear']['avg_pnl'].dropna()\n",
        "greed_pnl = merged[merged['classification'] == 'Greed']['avg_pnl'].dropna()\n",
        "\n",
        "# T-test: Compare mean PnL between Fear and Greed days\n",
        "t_stat, p_val = ttest_ind(fear_pnl, greed_pnl, equal_var=False)\n",
        "print(f\"T-test results for avg_pnl by sentiment:\\nt-statistic = {t_stat:.3f}, p-value = {p_val:.4f}\")"
      ],
      "metadata": {
        "id": "Kx7iDlkGWGUk",
        "colab": {
          "base_uri": "https://localhost:8080/"
        },
        "outputId": "46bea589-abe9-45ef-be19-80d344052b9a"
      },
      "execution_count": 42,
      "outputs": [
        {
          "output_type": "stream",
          "name": "stdout",
          "text": [
            "T-test results for avg_pnl by sentiment:\n",
            "t-statistic = nan, p-value = nan\n"
          ]
        }
      ]
    },
    {
      "cell_type": "code",
      "source": [
        "from sklearn.linear_model import LinearRegression\n",
        "from sklearn.model_selection import train_test_split\n",
        "from sklearn.metrics import mean_squared_error, r2_score\n",
        "\n",
        "# Encode sentiment to numeric\n",
        "merged['sentiment_num'] = merged['classification'].map({'Fear': 0, 'Greed': 1})\n",
        "\n",
        "# Handle missing values in 'sentiment_num'\n",
        "merged['sentiment_num'].fillna(merged['sentiment_num'].mean(), inplace=True)\n",
        "\n",
        "# Features and target\n",
        "X = merged[['sentiment_num', 'total_volume']]\n",
        "y = merged['avg_pnl']\n",
        "\n",
        "# Train/test split\n",
        "X_train, X_test, y_train, y_test = train_test_split(X, y, test_size=0.2, random_state=42)\n",
        "\n",
        "# Model training\n",
        "model = LinearRegression()\n",
        "model.fit(X_train, y_train)\n",
        "\n",
        "# Predictions and evaluation\n",
        "y_pred = model.predict(X_test)\n",
        "mse = mean_squared_error(y_test, y_pred)\n",
        "r2 = r2_score(y_test, y_pred)\n",
        "\n",
        "print(f\"Regression model evaluation:\\nMSE = {mse:.4f}, R^2 = {r2:.4f}\")\n",
        "\n",
        "# Coefficients\n",
        "coef_df = pd.DataFrame({'Feature': X.columns, 'Coefficient': model.coef_})\n",
        "print(\"\\nModel Coefficients:\")\n",
        "print(coef_df)"
      ],
      "metadata": {
        "colab": {
          "base_uri": "https://localhost:8080/"
        },
        "id": "aMUfoeXSWsTA",
        "outputId": "d80326d2-6d60-440e-8e79-796051efba9c"
      },
      "execution_count": 46,
      "outputs": [
        {
          "output_type": "stream",
          "name": "stdout",
          "text": [
            "Regression model evaluation:\n",
            "MSE = 4299.7106, R^2 = -776697.1235\n",
            "\n",
            "Model Coefficients:\n",
            "         Feature   Coefficient\n",
            "0  sentiment_num  1.922757e+02\n",
            "1   total_volume  2.529839e-07\n"
          ]
        },
        {
          "output_type": "stream",
          "name": "stderr",
          "text": [
            "/tmp/ipython-input-1192260807.py:9: FutureWarning: A value is trying to be set on a copy of a DataFrame or Series through chained assignment using an inplace method.\n",
            "The behavior will change in pandas 3.0. This inplace method will never work because the intermediate object on which we are setting values always behaves as a copy.\n",
            "\n",
            "For example, when doing 'df[col].method(value, inplace=True)', try using 'df.method({col: value}, inplace=True)' or df[col] = df[col].method(value) instead, to perform the operation inplace on the original object.\n",
            "\n",
            "\n",
            "  merged['sentiment_num'].fillna(merged['sentiment_num'].mean(), inplace=True)\n"
          ]
        }
      ]
    }
  ]
}